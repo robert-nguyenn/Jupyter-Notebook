{
 "cells": [
  {
   "cell_type": "markdown",
   "id": "8bd7b19c-b00e-4398-8c1c-f1a1035b56a7",
   "metadata": {},
   "source": [
    "# Overview of the Artifact Processing Code\r\n",
    "\r\n",
    "This code helps you process text artifacts using OpenAI’s API. It includes an example that summarizes `.txt` files, handling errors and retries automatically.\r\n",
    "\r\n",
    "## What You Should Do\r\n",
    "\r\n",
    "1. **Run the Code**: Ensure the code works in your environment:\r\n",
    "   - Place `.txt` files in the `code_and_data_quick_start` folder.\r\n",
    "   - Run the script and confirm the output matches the description.\r\n",
    "\r\n",
    "2. **Modify for Your Experiments**:\r\n",
    "   - Replace the example function with one tailored to your experiment.\r\n",
    "   - Adapt the prompts, file types, or output format as needed.\r\n",
    "\r\n",
    "## Support Resources\r\n",
    "\r\n",
    "If you have questions or need help:\r\n",
    "- **ChatGPT**: Ask for assistance with adapting or debugging your code.\r\n",
    "- **Your Classmates**: Collaborate with teammates to brainstorm and troubleshoot.\r\n",
    "- **Team 6**: Reach out to the coding support team for technical help.\r\n",
    "- **Your Instructor (Prof. Allen)**: I’m here to guide you and answer your questions.\r\n",
    "\r\n",
    "Take it step by step, and remember: experimenting is part of the process. You've got this!cess. You've got this!"
   ]
  },
  {
   "cell_type": "code",
   "execution_count": 13,
   "id": "e7ae91db-d910-439e-96c0-323d254baa69",
   "metadata": {},
   "outputs": [
    {
     "name": "stdout",
     "output_type": "stream",
     "text": [
      "Validated API key: sk-svcac...4pX4gA\n"
     ]
    },
    {
     "ename": "FileNotFoundError",
     "evalue": "[WinError 3] The system cannot find the path specified: 'code_and_data_quick_start/'",
     "output_type": "error",
     "traceback": [
      "\u001b[1;31m---------------------------------------------------------------------------\u001b[0m",
      "\u001b[1;31mFileNotFoundError\u001b[0m                         Traceback (most recent call last)",
      "Cell \u001b[1;32mIn[13], line 59\u001b[0m\n\u001b[0;32m     57\u001b[0m artifacts_file_path \u001b[38;5;241m=\u001b[39m \u001b[38;5;124m'\u001b[39m\u001b[38;5;124mcode_and_data_quick_start/\u001b[39m\u001b[38;5;124m'\u001b[39m\n\u001b[0;32m     58\u001b[0m file_queue \u001b[38;5;241m=\u001b[39m Queue()\n\u001b[1;32m---> 59\u001b[0m \u001b[38;5;28;01mfor\u001b[39;00m file_name \u001b[38;5;129;01min\u001b[39;00m os\u001b[38;5;241m.\u001b[39mlistdir(artifacts_file_path):\n\u001b[0;32m     60\u001b[0m     file_path \u001b[38;5;241m=\u001b[39m os\u001b[38;5;241m.\u001b[39mpath\u001b[38;5;241m.\u001b[39mjoin(artifacts_file_path, file_name)\n\u001b[0;32m     61\u001b[0m     \u001b[38;5;28;01mif\u001b[39;00m os\u001b[38;5;241m.\u001b[39mpath\u001b[38;5;241m.\u001b[39misfile(file_path) \u001b[38;5;129;01mand\u001b[39;00m file_name\u001b[38;5;241m.\u001b[39mlower()\u001b[38;5;241m.\u001b[39mendswith(\u001b[38;5;124m\"\u001b[39m\u001b[38;5;124m.txt\u001b[39m\u001b[38;5;124m\"\u001b[39m):\n",
      "\u001b[1;31mFileNotFoundError\u001b[0m: [WinError 3] The system cannot find the path specified: 'code_and_data_quick_start/'"
     ]
    }
   ],
   "source": [
    "import os\n",
    "import time\n",
    "from queue import Queue\n",
    "from openai import OpenAI\n",
    "\n",
    "# Initialize the OpenAI client\n",
    "api_key_file_path = \"Team 06 API Key.txt\"\n",
    "def read_and_validate_api_key(file_path):\n",
    "    if not os.path.exists(file_path):\n",
    "        raise FileNotFoundError(f\"API key file '{file_path}' not found.\")\n",
    "    with open(file_path, \"r\", encoding=\"utf-8\") as f:\n",
    "        lines = f.readlines()\n",
    "    if len(lines) < 2:\n",
    "        raise ValueError(f\"API key file '{file_path}' must have at least two lines.\")\n",
    "    raw_key = lines[1].strip()\n",
    "    if not raw_key.startswith(\"sk-svcacct-\"):\n",
    "        raise ValueError(f\"Invalid API key format in file '{file_path}'. Key must start with 'sk-svcacct-'.\")\n",
    "    return raw_key\n",
    "\n",
    "try:\n",
    "    api_key = read_and_validate_api_key(api_key_file_path)\n",
    "    client = OpenAI(api_key=api_key)\n",
    "    print(f\"Validated API key: {api_key[:8]}...{api_key[-6:]}\")\n",
    "except Exception as e:\n",
    "    print(f\"Error: {e}\")\n",
    "\n",
    "# Function to generate a response using OpenAI API\n",
    "def generate_response(client, system_role, user_prompt, model=\"gpt-4o-mini\"):\n",
    "    try:\n",
    "        completion = client.chat.completions.create(\n",
    "            model=model,\n",
    "            messages=[\n",
    "                { \"role\": \"system\", \"content\": system_role },\n",
    "                { \"role\": \"user\", \"content\": user_prompt },\n",
    "            ]\n",
    "        )\n",
    "        return completion.choices[0].message.content\n",
    "    except Exception as e:\n",
    "        raise RuntimeError(f\"Error connecting to OpenAI API: {e}\")\n",
    "\n",
    "# Function to summarize a future history\n",
    "def summarize_future_history(client, file_path):\n",
    "    try:\n",
    "        with open(file_path, \"r\", encoding=\"utf-8\") as f:\n",
    "            file_content = f.read()\n",
    "        system_role = (\n",
    "            \"You are a helpful assistant. Your task is to read future histories written by students.\"\n",
    "            \" A 'future history' is a narrative written in past tense about events that the writer imagines will happen in the future.\"\n",
    "        )\n",
    "        user_prompt = f\"Summarize the following future history in one sentence:\\n\\n{file_content}\"\n",
    "        response = generate_response(client, system_role, user_prompt, 'gpt-4o')\n",
    "        return response.strip()\n",
    "    except Exception as e:\n",
    "        raise RuntimeError(f\"Error summarizing file '{file_path}': {e}\")\n",
    "\n",
    "# Process all .txt files in the specified folder\n",
    "artifacts_file_path = 'code_and_data_quick_start/'\n",
    "file_queue = Queue()\n",
    "for file_name in os.listdir(artifacts_file_path):\n",
    "    file_path = os.path.join(artifacts_file_path, file_name)\n",
    "    if os.path.isfile(file_path) and file_name.lower().endswith(\".txt\"):\n",
    "        file_queue.put(file_path)\n",
    "\n",
    "max_retries = 3\n",
    "retry_delays = [1, 2, 4]\n",
    "attempts = {}\n",
    "\n",
    "while not file_queue.empty():\n",
    "    file_path = file_queue.get()\n",
    "    attempts[file_path] = attempts.get(file_path, 0) + 1\n",
    "    try:\n",
    "        summary = summarize_future_history(client, file_path)\n",
    "        print(f\"Summarizing file: {file_path}\")\n",
    "        print(\"Summary:\")\n",
    "        print(summary)\n",
    "        print(\"\\n\" + \"-\" * 50 + \"\\n\")\n",
    "    except Exception as error:\n",
    "        print(f\"Error processing file '{file_path}': {error}\")\n",
    "        if attempts[file_path] <= max_retries:\n",
    "            print(f\"Retrying file: {file_path} (attempt {attempts[file_path]})\")\n",
    "            file_queue.put(file_path)\n",
    "            time.sleep(retry_delays[min(attempts[file_path] - 1, len(retry_delays) - 1)])\n",
    "        else:\n",
    "            print(f\"Max retries reached for file: {file_path}. Skipping.\")"
   ]
  },
  {
   "cell_type": "markdown",
   "id": "258b18ee-5edc-4fc5-8c70-7f8a3b98b516",
   "metadata": {},
   "source": [
    "## Rubric Information\n",
    "\n",
    "1. **Add `rubric-history-1.txt` and `instructions-history.txt` to the `code_and_data_quick_start` folder**.\n",
    "2. **The program will read the instructions and essays automatically**.\n",
    "3. **The program will ask ChatGPT to evaluate them based on the rubric file automatically**.\n",
    "4. **Ensure `rubrics.txt` is included in the zipped folder `code_and_data_quick_start`**."
   ]
  },
  {
   "cell_type": "code",
   "execution_count": 16,
   "id": "02a37800-196c-49ed-a48b-0a8b60da75c7",
   "metadata": {},
   "outputs": [
    {
     "name": "stdout",
     "output_type": "stream",
     "text": [
      "Error: Error evaluating essays: [Errno 2] No such file or directory: 'code_and_data_quick_start/rubric-history-1.txt'\n"
     ]
    }
   ],
   "source": [
    "# Function to evaluate essays based on rubric\n",
    "def evaluate_essays(client, rubric_path, instructions_path, essays_path):\n",
    "    try:\n",
    "        with open(rubric_path, \"r\", encoding=\"utf-8\") as f:\n",
    "            rubric_content = f.read()\n",
    "        with open(instructions_path, \"r\", encoding=\"utf-8\") as f:\n",
    "            instructions_content = f.read()\n",
    "        with open(essays_path, \"r\", encoding=\"utf-8\") as f:\n",
    "            essays_content = f.read()\n",
    "        \n",
    "        system_role = \"You are an evaluator. Use the provided rubric to evaluate the following essays.\"\n",
    "        user_prompt = f\"Rubric:\\n{rubric_content}\\n\\nInstructions:\\n{instructions_content}\\n\\nEssays:\\n{essays_content}\"\n",
    "        \n",
    "        response = generate_response(client, system_role, user_prompt, 'gpt-4o')\n",
    "        return response.strip()\n",
    "    except Exception as e:\n",
    "        raise RuntimeError(f\"Error evaluating essays: {e}\")\n",
    "\n",
    "# Evaluate essays\n",
    "try:\n",
    "    rubric_path = \"code_and_data_quick_start/rubric-history-1.txt\"\n",
    "    instructions_path = \"code_and_data_quick_start/instructions-history.txt\"\n",
    "    essays_path = \"code_and_data_quick_start/essays.txt\"\n",
    "    evaluation = evaluate_essays(client, rubric_path, instructions_path, essays_path)\n",
    "    print(\"Evaluation Result:\")\n",
    "    print(evaluation)\n",
    "except Exception as error:\n",
    "    print(f\"Error: {error}\")"
   ]
  },
  {
   "cell_type": "markdown",
   "id": "08c8aa42-f725-45da-8159-29bf7911f92a",
   "metadata": {},
   "source": [
    "## Explanation for Students\r\n",
    "\r\n",
    "1. **Add `rubrics.txt` into the zipped folder `code_and_data_quick_start`**.\r\n",
    "2. **Place your API key file, rubric file, instructions file, and essays file in the `code_and_data_quick_start` folder**.\r\n",
    "3. **Run the notebook to process and evaluate the essays based on the rubric**."
   ]
  },
  {
   "cell_type": "code",
   "execution_count": null,
   "id": "2efabeb3-edac-4c09-9d82-b2447bd2e904",
   "metadata": {},
   "outputs": [],
   "source": []
  },
  {
   "cell_type": "code",
   "execution_count": null,
   "id": "70bd3b11-9a07-4c7c-9dfe-db23b32d713d",
   "metadata": {},
   "outputs": [],
   "source": []
  }
 ],
 "metadata": {
  "kernelspec": {
   "display_name": "Python [conda env:base] *",
   "language": "python",
   "name": "conda-base-py"
  },
  "language_info": {
   "codemirror_mode": {
    "name": "ipython",
    "version": 3
   },
   "file_extension": ".py",
   "mimetype": "text/x-python",
   "name": "python",
   "nbconvert_exporter": "python",
   "pygments_lexer": "ipython3",
   "version": "3.11.7"
  }
 },
 "nbformat": 4,
 "nbformat_minor": 5
}
